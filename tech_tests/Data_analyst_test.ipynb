{
 "cells": [
  {
   "cell_type": "markdown",
   "id": "28bcfb81-597f-4e52-b7fc-0e236ea17ce7",
   "metadata": {},
   "source": [
    "<img src=\"https://www.python.org/static/community_logos/python-logo-master-v3-TM.png\" title=\"Python Logo\"/> \n",
    "<h1> <strong> <em> Alan Bilsky - Data Analyst - Technical Assessment "
   ]
  },
  {
   "cell_type": "code",
   "execution_count": 1,
   "id": "11a2123e-d5d4-4092-a4ff-dd155256de2c",
   "metadata": {
    "tags": []
   },
   "outputs": [],
   "source": [
    "import pandas as pd\n",
    "import matplotlib.pyplot as plt\n",
    "import seaborn as sns\n",
    "import numpy as np\n",
    "import statistics\n",
    "import sqlite3\n",
    "\n",
    "#Connection to sqlite3\n",
    "conn = sqlite3.connect(\"mock_db_v2.db\")\n",
    "\n",
    "#Read files\n",
    "df_asset = pd.read_sql_query(\"SELECT * FROM asset\", conn)\n",
    "df_asset_asset = pd.read_sql_query(\"SELECT * FROM asset_asset_types\", conn)\n",
    "df_color = pd.read_sql_query(\"SELECT * FROM asset_color\", conn)\n",
    "df_type = pd.read_sql_query(\"SELECT * FROM asset_type\", conn)\n",
    "df_color\n",
    "\n",
    "#Format date\n",
    "df_asset['publishedAt']=pd.to_datetime(df_asset['publishedAt'])\n",
    "df_asset[\"Year\"] = df_asset[\"publishedAt\"].dt.year\n",
    "\n",
    "#Merging dfs\n",
    "df_merge_asset = pd.merge(df_asset, df_color, how = 'inner', left_on='id', right_on='assetId')\n",
    "df_merge_asset_asset = pd.merge(df_asset, df_asset_asset, how = 'inner', left_on='id', right_on='assetId')\n",
    "df_merge_asset_types = pd.merge(df_asset, df_type, how = 'left', left_on='id', right_on='parentId')\n",
    "df_merge_type = pd.merge(df_type, df_asset_asset, how = 'inner', left_on='id', right_on='assetTypeId')\n",
    "df_merge_color = pd.merge(df_merge_type, df_color, how = 'inner', left_on='assetId', right_on='assetId')\n",
    "\n",
    "#Format year groups\n",
    "Year_group = df_merge_asset.groupby(['Year'])\n",
    "yg = Year_group['color'].value_counts().sort_values(ascending=True)"
   ]
  },
  {
   "cell_type": "markdown",
   "id": "f14374bb-815e-4a8e-9028-beebeafaa49e",
   "metadata": {
    "jupyter": {
     "outputs_hidden": true
    },
    "tags": []
   },
   "source": [
    "<h3> 1. Average Social Media score (smScore) by the publishing year?"
   ]
  },
  {
   "cell_type": "code",
   "execution_count": 2,
   "id": "3a56b5ff-c049-4bae-9d2f-a3e31f68cb01",
   "metadata": {
    "jupyter": {
     "source_hidden": true
    },
    "scrolled": false,
    "tags": []
   },
   "outputs": [
    {
     "data": {
      "text/plain": [
       "Text(0, 0.5, 'Average Score')"
      ]
     },
     "execution_count": 2,
     "metadata": {},
     "output_type": "execute_result"
    },
    {
     "data": {
      "image/png": "[encoded data removed]",
      "text/plain": [
       "<Figure size 864x288 with 1 Axes>"
      ]
     },
     "metadata": {
      "needs_background": "light"
     },
     "output_type": "display_data"
    }
   ],
   "source": [
    "#Social media score average has been dropping since 2018. \n",
    "fig, axs = plt.subplots(figsize = (12,4))\n",
    "\n",
    "df_asset.groupby([df_asset['publishedAt'].dt.year])['smScore'].mean().plot(\n",
    "    kind = 'line', rot = 0, ax = axs)\n",
    "\n",
    "plt.title('Average Social Media Score by the Publishing year')\n",
    "plt.xlabel('Year')\n",
    "plt.ylabel('Average Score')"
   ]
  },
  {
   "cell_type": "code",
   "execution_count": 3,
   "id": "2205a0aa-7fa6-4d61-baad-dbdb37ba9bf5",
   "metadata": {
    "scrolled": true,
    "tags": []
   },
   "outputs": [
    {
     "data": {
      "text/html": [
       "<div>\n",
       "<style scoped>\n",
       "    .dataframe tbody tr th:only-of-type {\n",
       "        vertical-align: middle;\n",
       "    }\n",
       "\n",
       "    .dataframe tbody tr th {\n",
       "        vertical-align: top;\n",
       "    }\n",
       "\n",
       "    .dataframe thead th {\n",
       "        text-align: right;\n",
       "    }\n",
       "</style>\n",
       "<table border=\"1\" class=\"dataframe\">\n",
       "  <thead>\n",
       "    <tr style=\"text-align: right;\">\n",
       "      <th></th>\n",
       "      <th>smScore</th>\n",
       "    </tr>\n",
       "    <tr>\n",
       "      <th>Year</th>\n",
       "      <th></th>\n",
       "    </tr>\n",
       "  </thead>\n",
       "  <tbody>\n",
       "    <tr>\n",
       "      <th>2016</th>\n",
       "      <td>53.550000</td>\n",
       "    </tr>\n",
       "    <tr>\n",
       "      <th>2019</th>\n",
       "      <td>61.169127</td>\n",
       "    </tr>\n",
       "    <tr>\n",
       "      <th>2020</th>\n",
       "      <td>55.984643</td>\n",
       "    </tr>\n",
       "    <tr>\n",
       "      <th>2021</th>\n",
       "      <td>64.487956</td>\n",
       "    </tr>\n",
       "    <tr>\n",
       "      <th>2022</th>\n",
       "      <td>66.300630</td>\n",
       "    </tr>\n",
       "  </tbody>\n",
       "</table>\n",
       "</div>"
      ],
      "text/plain": [
       "        smScore\n",
       "Year           \n",
       "2016  53.550000\n",
       "2019  61.169127\n",
       "2020  55.984643\n",
       "2021  64.487956\n",
       "2022  66.300630"
      ]
     },
     "execution_count": 3,
     "metadata": {},
     "output_type": "execute_result"
    }
   ],
   "source": [
    "df_by_year = df_merge_asset[['Year', 'smScore']]\n",
    "df_by_year.groupby('Year').mean()"
   ]
  },
  {
   "cell_type": "markdown",
   "id": "2d838abf-7c10-4c12-96bd-acc5f9b9b610",
   "metadata": {},
   "source": [
    "<h3> 2. What are the most present colors in assets by publishing year?"
   ]
  },
  {
   "cell_type": "code",
   "execution_count": 4,
   "id": "fc0c0d40-3672-41d8-b643-41780939a31d",
   "metadata": {
    "jupyter": {
     "source_hidden": true
    },
    "tags": []
   },
   "outputs": [
    {
     "data": {
      "text/html": [
       "<div>\n",
       "<style scoped>\n",
       "    .dataframe tbody tr th:only-of-type {\n",
       "        vertical-align: middle;\n",
       "    }\n",
       "\n",
       "    .dataframe tbody tr th {\n",
       "        vertical-align: top;\n",
       "    }\n",
       "\n",
       "    .dataframe thead th {\n",
       "        text-align: right;\n",
       "    }\n",
       "</style>\n",
       "<table border=\"1\" class=\"dataframe\">\n",
       "  <thead>\n",
       "    <tr style=\"text-align: right;\">\n",
       "      <th></th>\n",
       "      <th>Year</th>\n",
       "      <th>Color</th>\n",
       "      <th>Frequency</th>\n",
       "    </tr>\n",
       "  </thead>\n",
       "  <tbody>\n",
       "    <tr>\n",
       "      <th>0</th>\n",
       "      <td>2016</td>\n",
       "      <td>Gray</td>\n",
       "      <td>1</td>\n",
       "    </tr>\n",
       "    <tr>\n",
       "      <th>1</th>\n",
       "      <td>2019</td>\n",
       "      <td>Green</td>\n",
       "      <td>18</td>\n",
       "    </tr>\n",
       "    <tr>\n",
       "      <th>2</th>\n",
       "      <td>2020</td>\n",
       "      <td>Light Gray</td>\n",
       "      <td>14</td>\n",
       "    </tr>\n",
       "    <tr>\n",
       "      <th>3</th>\n",
       "      <td>2021</td>\n",
       "      <td>Green</td>\n",
       "      <td>69</td>\n",
       "    </tr>\n",
       "    <tr>\n",
       "      <th>4</th>\n",
       "      <td>2022</td>\n",
       "      <td>Light Gray</td>\n",
       "      <td>41</td>\n",
       "    </tr>\n",
       "  </tbody>\n",
       "</table>\n",
       "</div>"
      ],
      "text/plain": [
       "   Year       Color  Frequency\n",
       "0  2016        Gray          1\n",
       "1  2019       Green         18\n",
       "2  2020  Light Gray         14\n",
       "3  2021       Green         69\n",
       "4  2022  Light Gray         41"
      ]
     },
     "execution_count": 4,
     "metadata": {},
     "output_type": "execute_result"
    }
   ],
   "source": [
    "df_by_year = df_merge_asset[['Year', 'color']]\n",
    "\n",
    "years_list = (set([x[0][0] for x in yg.items()]))\n",
    "years_and_colors = []\n",
    "\n",
    "for year in years_list:\n",
    "    year_colors = df_by_year[df_by_year[\"Year\"] == year]\n",
    "    color_count = year_colors['color'].value_counts().sort_values(ascending=True)\n",
    "    most_common_color_this_year = color_count.tail(1)\n",
    "    years_and_colors.append((year, most_common_color_this_year.index.tolist()[0],most_common_color_this_year.tolist()[0]))\n",
    "\n",
    "df_freq = pd.DataFrame(years_and_colors, columns =['Year', 'Color', 'Frequency'])\n",
    "df_freq"
   ]
  },
  {
   "cell_type": "markdown",
   "id": "d35c7e41-577f-4288-8625-9c95e0ecafd2",
   "metadata": {},
   "source": [
    "<h3> 3. What are the most present colors in assets by asset type? "
   ]
  },
  {
   "cell_type": "code",
   "execution_count": 5,
   "id": "f6182435-e30f-4afb-a461-66132e497a38",
   "metadata": {
    "jupyter": {
     "source_hidden": true
    },
    "scrolled": false,
    "tags": []
   },
   "outputs": [
    {
     "data": {
      "text/html": [
       "<div>\n",
       "<style scoped>\n",
       "    .dataframe tbody tr th:only-of-type {\n",
       "        vertical-align: middle;\n",
       "    }\n",
       "\n",
       "    .dataframe tbody tr th {\n",
       "        vertical-align: top;\n",
       "    }\n",
       "\n",
       "    .dataframe thead th {\n",
       "        text-align: right;\n",
       "    }\n",
       "</style>\n",
       "<table border=\"1\" class=\"dataframe\">\n",
       "  <thead>\n",
       "    <tr style=\"text-align: right;\">\n",
       "      <th></th>\n",
       "      <th>name</th>\n",
       "      <th>Color</th>\n",
       "      <th>Frequency</th>\n",
       "    </tr>\n",
       "  </thead>\n",
       "  <tbody>\n",
       "    <tr>\n",
       "      <th>0</th>\n",
       "      <td>Facebook</td>\n",
       "      <td>Green</td>\n",
       "      <td>6</td>\n",
       "    </tr>\n",
       "    <tr>\n",
       "      <th>1</th>\n",
       "      <td>Instagram</td>\n",
       "      <td>Green</td>\n",
       "      <td>136</td>\n",
       "    </tr>\n",
       "  </tbody>\n",
       "</table>\n",
       "</div>"
      ],
      "text/plain": [
       "        name  Color  Frequency\n",
       "0   Facebook  Green          6\n",
       "1  Instagram  Green        136"
      ]
     },
     "execution_count": 5,
     "metadata": {},
     "output_type": "execute_result"
    }
   ],
   "source": [
    "df_names = df_merge_color[['name', 'color']]\n",
    "\n",
    "name_group = df_merge_color.groupby(['name'])\n",
    "ng = name_group['color'].value_counts().sort_values(ascending=True)\n",
    "\n",
    "\n",
    "name_list = (set([x[0][0] for x in ng.items()]))\n",
    "name_and_colors = []\n",
    "\n",
    "for name in name_list:\n",
    "    name_color = df_names[df_names[\"name\"] == name]\n",
    "    color_count = name_color['color'].value_counts().sort_values(ascending=True)\n",
    "    most_common_color_per_name = color_count.tail(1)\n",
    "    name_and_colors.append((name, most_common_color_per_name.index.tolist()[0],most_common_color_per_name.tolist()[0]))\n",
    "\n",
    "df_freq = pd.DataFrame(name_and_colors, columns =['name', 'Color', 'Frequency'])\n",
    "df_freq.head()\n"
   ]
  },
  {
   "cell_type": "code",
   "execution_count": 6,
   "id": "02ba5880-558f-4822-a4ae-e0f2f98085f7",
   "metadata": {
    "scrolled": false,
    "tags": []
   },
   "outputs": [
    {
     "data": {
      "text/plain": [
       "name       color               \n",
       "Facebook   Light Gray                6\n",
       "           Green                     6\n",
       "           Black                     5\n",
       "           White                     5\n",
       "           Sienna                    5\n",
       "           Tan                       4\n",
       "           Gray                      4\n",
       "           Beige                     3\n",
       "           Golden Rod                3\n",
       "           Navy                      2\n",
       "           Khaki                     1\n",
       "           Rosy Brown                1\n",
       "           Orange                    1\n",
       "Instagram  Green                   136\n",
       "           Light Gray              116\n",
       "           Gray                    100\n",
       "           Sienna                   91\n",
       "           Golden Rod               72\n",
       "           Black                    70\n",
       "           Rosy Brown               39\n",
       "           Bordeaux/ Fire Brick     36\n",
       "           Tan                      29\n",
       "           White                    28\n",
       "           Khaki                    21\n",
       "           Light Blue               16\n",
       "           Red                      15\n",
       "           Beige                    12\n",
       "           Orange                   10\n",
       "           Steel Blue                9\n",
       "           Navy                      9\n",
       "           Yellow                    7\n",
       "           White Blue                4\n",
       "           Ivory                     2\n",
       "           Light Pink                2\n",
       "           Slate Blue                1\n",
       "           Violet                    1\n",
       "           Blue                      1\n",
       "           Aquamarine                1\n",
       "           MistyRose                 1\n",
       "           Lime                      1\n",
       "dtype: int64"
      ]
     },
     "execution_count": 6,
     "metadata": {},
     "output_type": "execute_result"
    }
   ],
   "source": [
    "df_names.groupby('name').value_counts()"
   ]
  },
  {
   "cell_type": "markdown",
   "id": "4dd2cc91-8ddc-412d-947a-e1367bd902cc",
   "metadata": {},
   "source": [
    "<h3> Additional insights"
   ]
  },
  {
   "cell_type": "code",
   "execution_count": 7,
   "id": "e4f6ad82-1171-4b45-96cd-135abb270ec1",
   "metadata": {
    "tags": []
   },
   "outputs": [
    {
     "data": {
      "text/html": [
       "<div>\n",
       "<style scoped>\n",
       "    .dataframe tbody tr th:only-of-type {\n",
       "        vertical-align: middle;\n",
       "    }\n",
       "\n",
       "    .dataframe tbody tr th {\n",
       "        vertical-align: top;\n",
       "    }\n",
       "\n",
       "    .dataframe thead th {\n",
       "        text-align: right;\n",
       "    }\n",
       "</style>\n",
       "<table border=\"1\" class=\"dataframe\">\n",
       "  <thead>\n",
       "    <tr style=\"text-align: right;\">\n",
       "      <th></th>\n",
       "      <th>Year</th>\n",
       "      <th>smScore</th>\n",
       "      <th>Frequency</th>\n",
       "    </tr>\n",
       "  </thead>\n",
       "  <tbody>\n",
       "    <tr>\n",
       "      <th>0</th>\n",
       "      <td>2016</td>\n",
       "      <td>53.5500</td>\n",
       "      <td>2</td>\n",
       "    </tr>\n",
       "    <tr>\n",
       "      <th>1</th>\n",
       "      <td>2019</td>\n",
       "      <td>54.1500</td>\n",
       "      <td>8</td>\n",
       "    </tr>\n",
       "    <tr>\n",
       "      <th>2</th>\n",
       "      <td>2020</td>\n",
       "      <td>69.4500</td>\n",
       "      <td>9</td>\n",
       "    </tr>\n",
       "    <tr>\n",
       "      <th>3</th>\n",
       "      <td>2021</td>\n",
       "      <td>77.0625</td>\n",
       "      <td>19</td>\n",
       "    </tr>\n",
       "    <tr>\n",
       "      <th>4</th>\n",
       "      <td>2022</td>\n",
       "      <td>71.9500</td>\n",
       "      <td>19</td>\n",
       "    </tr>\n",
       "  </tbody>\n",
       "</table>\n",
       "</div>"
      ],
      "text/plain": [
       "   Year  smScore  Frequency\n",
       "0  2016  53.5500          2\n",
       "1  2019  54.1500          8\n",
       "2  2020  69.4500          9\n",
       "3  2021  77.0625         19\n",
       "4  2022  71.9500         19"
      ]
     },
     "execution_count": 7,
     "metadata": {},
     "output_type": "execute_result"
    }
   ],
   "source": [
    "#Last two years have been stronger than the rest.\n",
    "\n",
    "df_by_year = df_merge_asset[['Year', 'smScore']]\n",
    "\n",
    "years_list = (set([x[0][0] for x in yg.items()]))\n",
    "years_and_score = []\n",
    "\n",
    "for year in years_list:\n",
    "    year_score = df_by_year[df_by_year[\"Year\"] == year]\n",
    "    score_count = year_score['smScore'].value_counts().sort_values(ascending=True)\n",
    "    most_common_score_this_year = score_count.tail(1)\n",
    "    years_and_score.append((year, most_common_score_this_year.index.tolist()[0],most_common_score_this_year.tolist()[0]))\n",
    "\n",
    "df_freq = pd.DataFrame(years_and_score, columns =['Year', 'smScore', 'Frequency'])\n",
    "df_freq"
   ]
  },
  {
   "cell_type": "code",
   "execution_count": 8,
   "id": "ca4a2938",
   "metadata": {},
   "outputs": [
    {
     "data": {
      "text/html": [
       "<div>\n",
       "<style scoped>\n",
       "    .dataframe tbody tr th:only-of-type {\n",
       "        vertical-align: middle;\n",
       "    }\n",
       "\n",
       "    .dataframe tbody tr th {\n",
       "        vertical-align: top;\n",
       "    }\n",
       "\n",
       "    .dataframe thead th {\n",
       "        text-align: right;\n",
       "    }\n",
       "</style>\n",
       "<table border=\"1\" class=\"dataframe\">\n",
       "  <thead>\n",
       "    <tr style=\"text-align: right;\">\n",
       "      <th></th>\n",
       "      <th>smScore</th>\n",
       "    </tr>\n",
       "    <tr>\n",
       "      <th>userId</th>\n",
       "      <th></th>\n",
       "    </tr>\n",
       "  </thead>\n",
       "  <tbody>\n",
       "    <tr>\n",
       "      <th>01FXJ8HWVQ87T8WJXS4RZXF4DN</th>\n",
       "      <td>70.331250</td>\n",
       "    </tr>\n",
       "    <tr>\n",
       "      <th>01G0YNEGJKY921Z0T60VDXHNKE</th>\n",
       "      <td>69.111112</td>\n",
       "    </tr>\n",
       "    <tr>\n",
       "      <th>01FYEMPG5PQXT3FFTZAK0G9WHG</th>\n",
       "      <td>64.947014</td>\n",
       "    </tr>\n",
       "    <tr>\n",
       "      <th>01FX343ZMKRE343QJJY7ETBEJ5</th>\n",
       "      <td>64.287629</td>\n",
       "    </tr>\n",
       "    <tr>\n",
       "      <th>01FXJD3C66Z3KV2XM9KZFNG73K</th>\n",
       "      <td>62.295486</td>\n",
       "    </tr>\n",
       "    <tr>\n",
       "      <th>01FXJD3C6678VN2NJZ6BCWGSQM</th>\n",
       "      <td>46.081189</td>\n",
       "    </tr>\n",
       "  </tbody>\n",
       "</table>\n",
       "</div>"
      ],
      "text/plain": [
       "                              smScore\n",
       "userId                               \n",
       "01FXJ8HWVQ87T8WJXS4RZXF4DN  70.331250\n",
       "01G0YNEGJKY921Z0T60VDXHNKE  69.111112\n",
       "01FYEMPG5PQXT3FFTZAK0G9WHG  64.947014\n",
       "01FX343ZMKRE343QJJY7ETBEJ5  64.287629\n",
       "01FXJD3C66Z3KV2XM9KZFNG73K  62.295486\n",
       "01FXJD3C6678VN2NJZ6BCWGSQM  46.081189"
      ]
     },
     "execution_count": 8,
     "metadata": {},
     "output_type": "execute_result"
    }
   ],
   "source": [
    "#There's not too many userIds, 01FXJ8HWVQ87T8WJXS4RZXF4DN takes the lead overall.\n",
    "\n",
    "userscore = df_asset[['userId', 'smScore']]\n",
    "\n",
    "userwithbestscore = userscore.groupby(by=[\"userId\"], dropna=False).mean()\n",
    "\n",
    "userwithbestscore.sort_values(by='smScore', ascending=False)"
   ]
  }
 ],
 "metadata": {
  "kernelspec": {
   "display_name": "Python 3 (ipykernel)",
   "language": "python",
   "name": "python3"
  },
  "language_info": {
   "codemirror_mode": {
    "name": "ipython",
    "version": 3
   },
   "file_extension": ".py",
   "mimetype": "text/x-python",
   "name": "python",
   "nbconvert_exporter": "python",
   "pygments_lexer": "ipython3",
   "version": "3.10.5"
  }
 },
 "nbformat": 4,
 "nbformat_minor": 5
}
